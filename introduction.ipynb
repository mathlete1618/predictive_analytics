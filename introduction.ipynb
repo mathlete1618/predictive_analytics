{
 "cells": [
  {
   "cell_type": "code",
   "execution_count": 2,
   "metadata": {},
   "outputs": [],
   "source": [
    "my_list = [1,2,3,4,5,6,7,8,9,10]"
   ]
  },
  {
   "cell_type": "code",
   "execution_count": 3,
   "metadata": {},
   "outputs": [
    {
     "name": "stdout",
     "output_type": "stream",
     "text": [
      "[2, 4, 6, 8, 10]\n"
     ]
    }
   ],
   "source": [
    "[new_list := [x for x in my_list if x % 2 == 0]]\n",
    "print(new_list)"
   ]
  },
  {
   "cell_type": "code",
   "execution_count": 5,
   "metadata": {},
   "outputs": [
    {
     "name": "stdout",
     "output_type": "stream",
     "text": [
      "[(1, 4), (1, 16), (1, 36), (1, 64), (1, 100), (9, 4), (9, 16), (9, 36), (9, 64), (9, 100), (25, 4), (25, 16), (25, 36), (25, 64), (25, 100), (49, 4), (49, 16), (49, 36), (49, 64), (49, 100), (81, 4), (81, 16), (81, 36), (81, 64), (81, 100)]\n"
     ]
    }
   ],
   "source": [
    "## Cartesian Product\n",
    "x = [1,3,5,7,9]\n",
    "y = [2,4,6,8,10]\n",
    "\n",
    "[cartesian_product := [(a**2,b**2) for a in x for b in y]]\n",
    "print(cartesian_product)"
   ]
  },
  {
   "cell_type": "code",
   "execution_count": 21,
   "metadata": {},
   "outputs": [],
   "source": [
    "def is_prime(n):\n",
    "    if n <= 1:\n",
    "        return False\n",
    "    for i in range(2, int(n**0.5) + 1):\n",
    "        if n % i == 0:\n",
    "            return False\n",
    "    else:\n",
    "        return True"
   ]
  },
  {
   "cell_type": "code",
   "execution_count": 25,
   "metadata": {},
   "outputs": [
    {
     "name": "stdout",
     "output_type": "stream",
     "text": [
      "[503, 509, 521, 523, 541, 547, 557, 563, 569, 571, 577, 587, 593, 599, 601]\n"
     ]
    }
   ],
   "source": [
    "x1 = [500, 501, 502, 503, 504, 505, 506, 507, 508, 509, \n",
    "      510, 511, 512, 513, 514, 515, 516, 517, 518, 519,\n",
    "      520, 521, 522, 523, 524, 525, 526, 527, 528, 529,\n",
    "      530, 531, 532, 533, 534, 535, 536, 537, 538, 539, 540, 541, 542, 543, 544, 545, 546, 547, 548, 549, 550, 551, 552, 553, 554, 555, 556, 557, 558, 559, 560, 561,\n",
    "      562, 563, 564, 565, 566, 567, 568, 569, 570, 571, 572, 573, 574, 575, 576, 577, 578, 579, 580,\n",
    "      581, 582, 583, 584, 585, 586, 587, 588, 589, 590, 591, 592, 593, 594, 595, 596, 597, 598, 599,\n",
    "      600, 601, 602, 603, 604, 605]\n",
    "\n",
    "[primes := [x for x in x1 if is_prime(x)]]\n",
    "print(primes)"
   ]
  },
  {
   "cell_type": "code",
   "execution_count": 26,
   "metadata": {},
   "outputs": [
    {
     "name": "stdout",
     "output_type": "stream",
     "text": [
      "[(521, 523), (569, 571), (599, 601)]\n"
     ]
    }
   ],
   "source": [
    "twin_primes = [(p, p+2) for p in primes if p + 2 in primes]\n",
    "print(twin_primes)"
   ]
  },
  {
   "cell_type": "code",
   "execution_count": 27,
   "metadata": {},
   "outputs": [
    {
     "data": {
      "text/plain": [
       "106"
      ]
     },
     "execution_count": 27,
     "metadata": {},
     "output_type": "execute_result"
    }
   ],
   "source": [
    "len(x1)"
   ]
  },
  {
   "cell_type": "code",
   "execution_count": null,
   "metadata": {},
   "outputs": [],
   "source": [
    "def random_draw(n):\n",
    "    \"\"\"Randomly select an element from x1 n times and return the proportion of times a twin prime is dwawn.\"\"\"\n",
    "    \n"
   ]
  }
 ],
 "metadata": {
  "kernelspec": {
   "display_name": "DataSci",
   "language": "python",
   "name": "python3"
  },
  "language_info": {
   "codemirror_mode": {
    "name": "ipython",
    "version": 3
   },
   "file_extension": ".py",
   "mimetype": "text/x-python",
   "name": "python",
   "nbconvert_exporter": "python",
   "pygments_lexer": "ipython3",
   "version": "3.9.6"
  }
 },
 "nbformat": 4,
 "nbformat_minor": 2
}
